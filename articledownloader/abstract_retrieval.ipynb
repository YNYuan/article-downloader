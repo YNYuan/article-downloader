{
 "cells": [
  {
   "cell_type": "code",
   "execution_count": 3,
   "metadata": {
    "collapsed": true,
    "scrolled": true
   },
   "outputs": [],
   "source": [
    "from articledownloader import ArticleDownloader\n",
    "import time\n",
    "\n",
    "#获取doi列表\n",
    "\n",
    "downloader = ArticleDownloader(els_api_key='0d9ef2ed78ce2bd5894129c31917d307')  #elsevier key\n",
    "doi_file = open('doi_file1', 'w')  #输入doi文件名\n",
    "\n",
    "doilist = downloader.get_dois_from_search('chemistry', rows=900)\n",
    "for item in doilist:\n",
    "    doi_file.write(item + '\\n')\n",
    "\n",
    "doi_file.close()"
   ]
  },
  {
   "cell_type": "code",
   "execution_count": 1,
   "metadata": {
    "collapsed": true
   },
   "outputs": [],
   "source": [
    "from articledownloader import ArticleDownloader\n",
    "import time\n",
    "\n",
    "#获取doi列表\n",
    "\n",
    "downloader = ArticleDownloader(els_api_key='0d9ef2ed78ce2bd5894129c31917d307')  #elsevier key\n",
    "doi_file = open('doi_file2', 'w')  #输入doi文件名\n",
    "\n",
    "doilist = downloader.get_dois_from_journal_issn('0927-0256', rows=5 , pub_after=2010)\n",
    "for item in doilist:\n",
    "    doi_file.write(item + '\\n')\n",
    "\n",
    "doi_file.close()"
   ]
  },
  {
   "cell_type": "code",
   "execution_count": 8,
   "metadata": {},
   "outputs": [
    {
     "name": "stdout",
     "output_type": "stream",
     "text": [
      "None_number\n",
      "2\n"
     ]
    }
   ],
   "source": [
    "from plusdownloader import PlusDownloader\n",
    "import time\n",
    "import codecs\n",
    "\n",
    "#acs文章摘要获取\n",
    "\n",
    "downloader = PlusDownloader()\n",
    "abstract_file = codecs.open('abs1', 'w','utf-8') #输入摘要文件名\n",
    "doi = open('doi_file2', 'r') #doi文件名，同上一致\n",
    "report_false = 0\n",
    "count = 0\n",
    "\n",
    "for i,item in enumerate(doi.readlines()): \n",
    "    abstract = downloader.get_abstract_from_doi(item , 'acs')\n",
    "    if abstract == None:\n",
    "        report_false = report_false + 1\n",
    "    else:               \n",
    "        abstract_file.write(abstract + '\\n')\n",
    "    count = count+1\n",
    "    if count%500 == 0:\n",
    "        print(count)\n",
    "    if count%1000 == 0:\n",
    "        time.sleep(5)\n",
    "\n",
    "print('None_number')\n",
    "print(report_false)\n",
    "doi.close()\n",
    "abstract_file.close()"
   ]
  },
  {
   "cell_type": "code",
   "execution_count": 3,
   "metadata": {},
   "outputs": [
    {
     "name": "stdout",
     "output_type": "stream",
     "text": [
      "None_number\n",
      "0\n"
     ]
    }
   ],
   "source": [
    "from articledownloader import ArticleDownloader\n",
    "import time\n",
    "import codecs\n",
    "\n",
    "#elsevier文章摘要获取\n",
    "\n",
    "downloader = ArticleDownloader(els_api_key='0d9ef2ed78ce2bd5894129c31917d307')\n",
    "abstract_file = codecs.open('abs2', 'w','utf-8')\n",
    "doi = open('doi_file2', 'r')\n",
    "report_false = 0\n",
    "count = 0\n",
    "\n",
    "for i,item in enumerate(doi.readlines()): \n",
    "    abstract = downloader.get_abstract_from_doi(item.strip('\\n'), 'elsevier')\n",
    "    \n",
    "    if abstract == None:\n",
    "        report_false = report_false + 1\n",
    "    else:\n",
    "        abstract = abstract.replace('Abstract','')\n",
    "        abstract = abstract.strip()\n",
    "        abstract_file.write(abstract + '\\n')      \n",
    "        count = count+1\n",
    "        if count%1000 == 0:\n",
    "            time.sleep(5)\n",
    "\n",
    "print('None_number')\n",
    "print(report_false)\n",
    "\n",
    "doi.close()\n",
    "abstract_file.close()"
   ]
  }
 ],
 "metadata": {
  "kernelspec": {
   "display_name": "Python 2",
   "language": "python",
   "name": "python2"
  },
  "language_info": {
   "codemirror_mode": {
    "name": "ipython",
    "version": 2
   },
   "file_extension": ".py",
   "mimetype": "text/x-python",
   "name": "python",
   "nbconvert_exporter": "python",
   "pygments_lexer": "ipython2",
   "version": "2.7.15"
  }
 },
 "nbformat": 4,
 "nbformat_minor": 2
}
